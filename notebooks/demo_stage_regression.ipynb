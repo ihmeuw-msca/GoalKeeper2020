{
 "cells": [
  {
   "cell_type": "code",
   "execution_count": null,
   "metadata": {},
   "outputs": [],
   "source": [
    "import numpy as np\n",
    "import pandas as pd \n",
    "import matplotlib.pyplot as plt\n",
    "from mrtool import MRData, LinearCovModel\n",
    "from gkmodel import OverallModel, StudyModel, TwoStageModel, StagewiseModel, result_to_df"
   ]
  },
  {
   "cell_type": "code",
   "execution_count": null,
   "metadata": {},
   "outputs": [],
   "source": [
    "indicator = 'smoking'\n",
    "df = pd.read_csv(f'../data/{indicator}.as.csv')"
   ]
  },
  {
   "cell_type": "code",
   "execution_count": null,
   "metadata": {},
   "outputs": [],
   "source": [
    "df.head(3)"
   ]
  },
  {
   "cell_type": "code",
   "execution_count": null,
   "metadata": {},
   "outputs": [],
   "source": [
    "data_stage1 = MRData()\n",
    "data_stage1.load_df(\n",
    "    df,\n",
    "    col_obs=f'{indicator}_logit',\n",
    "    col_obs_se=f'{indicator}_logit_se',\n",
    "    col_covs=['sdi', 'year_id'],\n",
    "    col_study_id='ls_id'\n",
    ")"
   ]
  },
  {
   "cell_type": "code",
   "execution_count": null,
   "metadata": {},
   "outputs": [],
   "source": [
    "cov_models1 = [\n",
    "    LinearCovModel('intercept'),\n",
    "    LinearCovModel('sdi',\n",
    "                   use_spline=True,\n",
    "                   spline_knots=np.linspace(0.0, 1.0, 5),\n",
    "                   spline_l_linear=True,\n",
    "                   spline_r_linear=True)\n",
    "]\n",
    "cov_models2 = [LinearCovModel('intercept'), LinearCovModel('sdi')]"
   ]
  },
  {
   "cell_type": "markdown",
   "metadata": {},
   "source": [
    "### Using Overall Model and StudyModel separately"
   ]
  },
  {
   "cell_type": "code",
   "execution_count": null,
   "metadata": {},
   "outputs": [],
   "source": [
    "data_stage1"
   ]
  },
  {
   "cell_type": "code",
   "execution_count": null,
   "metadata": {},
   "outputs": [],
   "source": [
    "model_stage1 = OverallModel(data_stage1, cov_models1)"
   ]
  },
  {
   "cell_type": "code",
   "execution_count": null,
   "metadata": {},
   "outputs": [],
   "source": [
    "model_stage1.fit_model()"
   ]
  },
  {
   "cell_type": "code",
   "execution_count": null,
   "metadata": {},
   "outputs": [],
   "source": [
    "model_stage1.soln"
   ]
  },
  {
   "cell_type": "code",
   "execution_count": null,
   "metadata": {},
   "outputs": [],
   "source": [
    "model_stage1.data._sort_by_data_id()\n",
    "df_stage1 = result_to_df(model_stage1, model_stage1.data, prediction='pred_stage1', residual='resi_stage1')\n",
    "df_stage1 = pd.merge(df, df_stage1[['pred_stage1', 'resi_stage1']], left_index=True, right_index=True)"
   ]
  },
  {
   "cell_type": "code",
   "execution_count": null,
   "metadata": {},
   "outputs": [],
   "source": [
    "df_stage1.head()"
   ]
  },
  {
   "cell_type": "code",
   "execution_count": null,
   "metadata": {},
   "outputs": [],
   "source": [
    "data_stage2 = MRData()\n",
    "data_stage2.load_df(\n",
    "    df_stage1,\n",
    "    col_obs='resi_stage1',\n",
    "    col_obs_se=f'{indicator}_logit_se',\n",
    "    col_covs=['sdi'],\n",
    "    col_study_id='ls_id'\n",
    ")"
   ]
  },
  {
   "cell_type": "code",
   "execution_count": null,
   "metadata": {},
   "outputs": [],
   "source": [
    "model_stage2 = StudyModel(data_stage2, cov_models2)"
   ]
  },
  {
   "cell_type": "code",
   "execution_count": null,
   "metadata": {},
   "outputs": [],
   "source": [
    "model_stage2.fit_model()"
   ]
  },
  {
   "cell_type": "markdown",
   "metadata": {},
   "source": [
    "### Using TwoStage Model"
   ]
  },
  {
   "cell_type": "code",
   "execution_count": null,
   "metadata": {},
   "outputs": [],
   "source": [
    "cov_models1 = [\n",
    "    LinearCovModel('intercept'),\n",
    "    LinearCovModel('sdi',\n",
    "                   use_spline=True,\n",
    "                   spline_knots=np.linspace(0.0, 1.0, 5),\n",
    "                   spline_l_linear=True,\n",
    "                   spline_r_linear=True)\n",
    "]\n",
    "cov_models2 = [LinearCovModel('intercept'), LinearCovModel('sdi')]"
   ]
  },
  {
   "cell_type": "code",
   "execution_count": null,
   "metadata": {},
   "outputs": [],
   "source": [
    "tsmodel = TwoStageModel(data_stage1, cov_models1, cov_models2)"
   ]
  },
  {
   "cell_type": "code",
   "execution_count": null,
   "metadata": {},
   "outputs": [],
   "source": [
    "tsmodel.fit_model()"
   ]
  },
  {
   "cell_type": "code",
   "execution_count": null,
   "metadata": {},
   "outputs": [],
   "source": [
    "result_to_df(tsmodel, tsmodel.data1)"
   ]
  },
  {
   "cell_type": "markdown",
   "metadata": {},
   "source": [
    "### Using StageWise"
   ]
  },
  {
   "cell_type": "code",
   "execution_count": null,
   "metadata": {},
   "outputs": [],
   "source": [
    "cov_models1 = [\n",
    "    LinearCovModel('intercept'),\n",
    "    LinearCovModel('sdi',\n",
    "                   use_spline=True,\n",
    "                   spline_knots=np.linspace(0.0, 1.0, 5),\n",
    "                   spline_l_linear=True,\n",
    "                   spline_r_linear=True)\n",
    "]\n",
    "cov_models2 = [LinearCovModel('intercept'), LinearCovModel('sdi')]"
   ]
  },
  {
   "cell_type": "code",
   "execution_count": null,
   "metadata": {},
   "outputs": [],
   "source": [
    "swmodel = StagewiseModel(data_stage1, [OverallModel(cov_models=cov_models1),\n",
    "                                       StudyModel(cov_models=cov_models2)])"
   ]
  },
  {
   "cell_type": "code",
   "execution_count": null,
   "metadata": {},
   "outputs": [],
   "source": [
    "swmodel.fit_model()"
   ]
  },
  {
   "cell_type": "code",
   "execution_count": null,
   "metadata": {},
   "outputs": [],
   "source": [
    "swmodel.soln_to_df(0)"
   ]
  },
  {
   "cell_type": "code",
   "execution_count": null,
   "metadata": {},
   "outputs": [],
   "source": [
    "swmodel.soln_to_df(1)"
   ]
  },
  {
   "cell_type": "code",
   "execution_count": null,
   "metadata": {},
   "outputs": [],
   "source": [
    "swmodel.result_to_df()"
   ]
  },
  {
   "cell_type": "markdown",
   "metadata": {},
   "source": [
    "### Compare Fit"
   ]
  },
  {
   "cell_type": "code",
   "execution_count": null,
   "metadata": {},
   "outputs": [],
   "source": [
    "print(model_stage1.soln - tsmodel.model1.soln)\n",
    "print(model_stage1.soln - swmodel.node_models[0].soln)"
   ]
  },
  {
   "cell_type": "code",
   "execution_count": null,
   "metadata": {},
   "outputs": [],
   "source": [
    "for ls_id, soln in model_stage2.soln.items():\n",
    "    assert np.linalg.norm(soln - tsmodel.model2.soln[ls_id]) / np.linalg.norm(soln) < 1e-5\n",
    "    assert np.linalg.norm(soln - swmodel.node_models[1].soln[ls_id]) / np.linalg.norm(soln) < 1e-5"
   ]
  },
  {
   "cell_type": "markdown",
   "metadata": {},
   "source": [
    "### Compare prediction"
   ]
  },
  {
   "cell_type": "markdown",
   "metadata": {},
   "source": [
    "- predictions from OverallModel + StudyModel"
   ]
  },
  {
   "cell_type": "code",
   "execution_count": null,
   "metadata": {},
   "outputs": [],
   "source": [
    "model_stage2.data._sort_by_data_id()\n",
    "df_stage2 = result_to_df(model_stage2, model_stage2.data, prediction='pred_stage2', residual='resi_stage2')\n",
    "df_stage2 = pd.merge(df_stage1, df_stage2[['pred_stage2', 'resi_stage2']], left_index=True, right_index=True)"
   ]
  },
  {
   "cell_type": "code",
   "execution_count": null,
   "metadata": {},
   "outputs": [],
   "source": [
    "df_stage2.head()"
   ]
  },
  {
   "cell_type": "code",
   "execution_count": null,
   "metadata": {},
   "outputs": [],
   "source": [
    "prediction = df_stage2['pred_stage1'].values + df_stage2['pred_stage2'].values"
   ]
  },
  {
   "cell_type": "markdown",
   "metadata": {},
   "source": [
    "- prediction from TwoStageModel"
   ]
  },
  {
   "cell_type": "code",
   "execution_count": null,
   "metadata": {},
   "outputs": [],
   "source": [
    "prediction_ts = tsmodel.predict()"
   ]
  },
  {
   "cell_type": "code",
   "execution_count": null,
   "metadata": {},
   "outputs": [],
   "source": [
    "np.linalg.norm(prediction_ts - prediction)"
   ]
  },
  {
   "cell_type": "markdown",
   "metadata": {},
   "source": [
    "- prediction from stagewise model"
   ]
  },
  {
   "cell_type": "code",
   "execution_count": null,
   "metadata": {},
   "outputs": [],
   "source": [
    "prediction_sw = swmodel.predict()"
   ]
  },
  {
   "cell_type": "code",
   "execution_count": null,
   "metadata": {},
   "outputs": [],
   "source": [
    "np.linalg.norm(prediction_sw - prediction)"
   ]
  },
  {
   "cell_type": "markdown",
   "metadata": {},
   "source": [
    "- predict with quantile"
   ]
  },
  {
   "cell_type": "code",
   "execution_count": null,
   "metadata": {},
   "outputs": [],
   "source": [
    "prediction_ts"
   ]
  },
  {
   "cell_type": "code",
   "execution_count": null,
   "metadata": {},
   "outputs": [],
   "source": [
    "tsmodel.predict(slope_quantile=dict(sdi=0.15), ref_cov=None)"
   ]
  },
  {
   "cell_type": "code",
   "execution_count": null,
   "metadata": {},
   "outputs": [],
   "source": [
    "tsmodel.predict(slope_quantile=dict(sdi=0.15), ref_cov=('year_id', 2000))"
   ]
  },
  {
   "cell_type": "code",
   "execution_count": null,
   "metadata": {},
   "outputs": [],
   "source": [
    "sw_result = swmodel.result_to_df()\n",
    "sw_result_base = sw_result.copy()\n",
    "sw_result_base['pred_type'] = 'base'"
   ]
  },
  {
   "cell_type": "code",
   "execution_count": null,
   "metadata": {},
   "outputs": [],
   "source": [
    "sw_result_no_adjust = sw_result.copy()\n",
    "sw_result_no_adjust['prediction'] = swmodel.predict(slope_quantile=dict(sdi=0.15), ref_cov=None)\n",
    "sw_result_no_adjust['pred_type'] = 'no_adjust'"
   ]
  },
  {
   "cell_type": "code",
   "execution_count": null,
   "metadata": {},
   "outputs": [],
   "source": [
    "sw_result_adjusted = sw_result.copy()\n",
    "sw_result_adjusted['prediction'] = swmodel.predict(slope_quantile=dict(sdi=0.15), ref_cov=('year_id', 2000))\n",
    "sw_result_adjusted['pred_type'] = 'adjusted'"
   ]
  },
  {
   "cell_type": "code",
   "execution_count": null,
   "metadata": {},
   "outputs": [],
   "source": [
    "result_compare = pd.concat([sw_result_base, sw_result_no_adjust, sw_result_adjusted]).query('study_id == [101, 102]')"
   ]
  },
  {
   "cell_type": "code",
   "execution_count": null,
   "metadata": {},
   "outputs": [],
   "source": [
    "result_compare"
   ]
  },
  {
   "cell_type": "code",
   "execution_count": null,
   "metadata": {},
   "outputs": [],
   "source": [
    "import plotly.express as px"
   ]
  },
  {
   "cell_type": "code",
   "execution_count": null,
   "metadata": {},
   "outputs": [],
   "source": [
    "px.scatter(\n",
    "    result_compare, \n",
    "    x='year_id', \n",
    "    y='prediction', \n",
    "    color='pred_type', facet_row='study_id', width=700, height=1000).update_traces(mode='lines+markers')"
   ]
  },
  {
   "cell_type": "markdown",
   "metadata": {},
   "source": [
    "### More plotting"
   ]
  },
  {
   "cell_type": "code",
   "execution_count": null,
   "metadata": {},
   "outputs": [],
   "source": [
    "ls_id = 1021\n",
    "index = df_stage2.ls_id == ls_id\n",
    "obs = df_stage2[f'{indicator}_logit'].values[index]\n",
    "year_id = df_stage2['year_id'].values[index]\n",
    "\n",
    "prediction = df_stage2['pred_stage1'].values + df_stage2['pred_stage2'].values\n",
    "print(prediction)\n",
    "prediction = prediction[index]\n",
    "\n",
    "plt.scatter(year_id, obs, label='observation')\n",
    "plt.scatter(year_id, prediction, label='prediction')\n",
    "plt.legend()\n",
    "plt.title(f\"loc_sex_id: {ls_id}\")"
   ]
  },
  {
   "cell_type": "code",
   "execution_count": null,
   "metadata": {},
   "outputs": [],
   "source": [
    "soln = np.vstack(list(model_stage2.soln.values()))"
   ]
  },
  {
   "cell_type": "code",
   "execution_count": null,
   "metadata": {},
   "outputs": [],
   "source": [
    "plt.plot(np.sort(soln[:, 0]), np.linspace(0.0, 1.0, soln.shape[0]))\n",
    "plt.title(\"random intercept cumulative density\")"
   ]
  },
  {
   "cell_type": "code",
   "execution_count": null,
   "metadata": {},
   "outputs": [],
   "source": [
    "plt.plot(np.sort(soln[:, 1]), np.linspace(0.0, 1.0, soln.shape[0]))\n",
    "plt.title(\"random slope cumulative density\")"
   ]
  },
  {
   "cell_type": "code",
   "execution_count": null,
   "metadata": {},
   "outputs": [],
   "source": []
  }
 ],
 "metadata": {
  "kernelspec": {
   "display_name": "Python 3",
   "language": "python",
   "name": "python3"
  },
  "language_info": {
   "codemirror_mode": {
    "name": "ipython",
    "version": 3
   },
   "file_extension": ".py",
   "mimetype": "text/x-python",
   "name": "python",
   "nbconvert_exporter": "python",
   "pygments_lexer": "ipython3",
   "version": "3.7.7"
  }
 },
 "nbformat": 4,
 "nbformat_minor": 4
}
