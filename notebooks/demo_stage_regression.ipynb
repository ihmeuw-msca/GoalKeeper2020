{
 "cells": [
  {
   "cell_type": "code",
   "execution_count": 1,
   "metadata": {},
   "outputs": [],
   "source": [
    "import numpy as np\n",
    "import pandas as pd \n",
    "import matplotlib.pyplot as plt\n",
    "from mrtool import MRData, LinearCovModel\n",
    "from gkmodel import OverallModel, StudyModel, TwoStageModel, StagewiseModel, result_to_df"
   ]
  },
  {
   "cell_type": "code",
   "execution_count": 2,
   "metadata": {},
   "outputs": [],
   "source": [
    "indicator = 'smoking'\n",
    "df = pd.read_csv(f'../data/{indicator}.as.csv')"
   ]
  },
  {
   "cell_type": "code",
   "execution_count": 3,
   "metadata": {},
   "outputs": [
    {
     "data": {
      "text/html": [
       "<div>\n",
       "<style scoped>\n",
       "    .dataframe tbody tr th:only-of-type {\n",
       "        vertical-align: middle;\n",
       "    }\n",
       "\n",
       "    .dataframe tbody tr th {\n",
       "        vertical-align: top;\n",
       "    }\n",
       "\n",
       "    .dataframe thead th {\n",
       "        text-align: right;\n",
       "    }\n",
       "</style>\n",
       "<table border=\"1\" class=\"dataframe\">\n",
       "  <thead>\n",
       "    <tr style=\"text-align: right;\">\n",
       "      <th></th>\n",
       "      <th>Unnamed: 0</th>\n",
       "      <th>location_id</th>\n",
       "      <th>year_id</th>\n",
       "      <th>sex_id</th>\n",
       "      <th>smoking</th>\n",
       "      <th>sdi</th>\n",
       "      <th>smoking_logit</th>\n",
       "      <th>ls_id</th>\n",
       "      <th>smoking_se</th>\n",
       "      <th>smoking_logit_se</th>\n",
       "    </tr>\n",
       "  </thead>\n",
       "  <tbody>\n",
       "    <tr>\n",
       "      <th>0</th>\n",
       "      <td>1</td>\n",
       "      <td>10</td>\n",
       "      <td>1990</td>\n",
       "      <td>2</td>\n",
       "      <td>0.023706</td>\n",
       "      <td>0.264201</td>\n",
       "      <td>-3.718032</td>\n",
       "      <td>102</td>\n",
       "      <td>0.090516</td>\n",
       "      <td>1.269764</td>\n",
       "    </tr>\n",
       "    <tr>\n",
       "      <th>1</th>\n",
       "      <td>2</td>\n",
       "      <td>10</td>\n",
       "      <td>1990</td>\n",
       "      <td>1</td>\n",
       "      <td>0.283392</td>\n",
       "      <td>0.264201</td>\n",
       "      <td>-0.927695</td>\n",
       "      <td>101</td>\n",
       "      <td>0.090516</td>\n",
       "      <td>1.269764</td>\n",
       "    </tr>\n",
       "    <tr>\n",
       "      <th>2</th>\n",
       "      <td>3</td>\n",
       "      <td>10</td>\n",
       "      <td>1991</td>\n",
       "      <td>2</td>\n",
       "      <td>0.023371</td>\n",
       "      <td>0.269285</td>\n",
       "      <td>-3.732612</td>\n",
       "      <td>102</td>\n",
       "      <td>0.090516</td>\n",
       "      <td>1.269764</td>\n",
       "    </tr>\n",
       "  </tbody>\n",
       "</table>\n",
       "</div>"
      ],
      "text/plain": [
       "   Unnamed: 0  location_id  year_id  sex_id   smoking       sdi  \\\n",
       "0           1           10     1990       2  0.023706  0.264201   \n",
       "1           2           10     1990       1  0.283392  0.264201   \n",
       "2           3           10     1991       2  0.023371  0.269285   \n",
       "\n",
       "   smoking_logit  ls_id  smoking_se  smoking_logit_se  \n",
       "0      -3.718032    102    0.090516          1.269764  \n",
       "1      -0.927695    101    0.090516          1.269764  \n",
       "2      -3.732612    102    0.090516          1.269764  "
      ]
     },
     "execution_count": 3,
     "metadata": {},
     "output_type": "execute_result"
    }
   ],
   "source": [
    "df.head(3)"
   ]
  },
  {
   "cell_type": "code",
   "execution_count": 4,
   "metadata": {},
   "outputs": [],
   "source": [
    "data_stage1 = MRData()\n",
    "data_stage1.load_df(\n",
    "    df,\n",
    "    col_obs=f'{indicator}_logit',\n",
    "    col_obs_se=f'{indicator}_logit_se',\n",
    "    col_covs=['sdi', 'year_id'],\n",
    "    col_study_id='ls_id'\n",
    ")"
   ]
  },
  {
   "cell_type": "code",
   "execution_count": 5,
   "metadata": {},
   "outputs": [],
   "source": [
    "cov_models1 = [\n",
    "    LinearCovModel('intercept'),\n",
    "    LinearCovModel('sdi',\n",
    "                   use_spline=True,\n",
    "                   spline_knots=np.linspace(0.0, 1.0, 5),\n",
    "                   spline_l_linear=True,\n",
    "                   spline_r_linear=True)\n",
    "]\n",
    "cov_models2 = [LinearCovModel('intercept'), LinearCovModel('sdi')]"
   ]
  },
  {
   "cell_type": "markdown",
   "metadata": {},
   "source": [
    "### Using Overall Model and StudyModel separately"
   ]
  },
  {
   "cell_type": "code",
   "execution_count": 6,
   "metadata": {},
   "outputs": [
    {
     "data": {
      "text/plain": [
       "number of observations: 12240\n",
       "number of covariates  : 3\n",
       "number of studies     : 408"
      ]
     },
     "execution_count": 6,
     "metadata": {},
     "output_type": "execute_result"
    }
   ],
   "source": [
    "data_stage1"
   ]
  },
  {
   "cell_type": "code",
   "execution_count": 7,
   "metadata": {},
   "outputs": [],
   "source": [
    "model_stage1 = OverallModel(data_stage1, cov_models1)"
   ]
  },
  {
   "cell_type": "code",
   "execution_count": 8,
   "metadata": {},
   "outputs": [],
   "source": [
    "model_stage1.fit_model()"
   ]
  },
  {
   "cell_type": "code",
   "execution_count": 9,
   "metadata": {},
   "outputs": [
    {
     "data": {
      "text/plain": [
       "array([-2.92576172,  0.15923559,  0.26159606,  0.74561337,  0.86764338])"
      ]
     },
     "execution_count": 9,
     "metadata": {},
     "output_type": "execute_result"
    }
   ],
   "source": [
    "model_stage1.soln"
   ]
  },
  {
   "cell_type": "code",
   "execution_count": 10,
   "metadata": {},
   "outputs": [],
   "source": [
    "model_stage1.data._sort_by_data_id()\n",
    "df_stage1 = result_to_df(model_stage1, model_stage1.data, prediction='pred_stage1', residual='resi_stage1')\n",
    "df_stage1 = pd.merge(df, df_stage1[['pred_stage1', 'resi_stage1']], left_index=True, right_index=True)"
   ]
  },
  {
   "cell_type": "code",
   "execution_count": 11,
   "metadata": {},
   "outputs": [
    {
     "data": {
      "text/html": [
       "<div>\n",
       "<style scoped>\n",
       "    .dataframe tbody tr th:only-of-type {\n",
       "        vertical-align: middle;\n",
       "    }\n",
       "\n",
       "    .dataframe tbody tr th {\n",
       "        vertical-align: top;\n",
       "    }\n",
       "\n",
       "    .dataframe thead th {\n",
       "        text-align: right;\n",
       "    }\n",
       "</style>\n",
       "<table border=\"1\" class=\"dataframe\">\n",
       "  <thead>\n",
       "    <tr style=\"text-align: right;\">\n",
       "      <th></th>\n",
       "      <th>Unnamed: 0</th>\n",
       "      <th>location_id</th>\n",
       "      <th>year_id</th>\n",
       "      <th>sex_id</th>\n",
       "      <th>smoking</th>\n",
       "      <th>sdi</th>\n",
       "      <th>smoking_logit</th>\n",
       "      <th>ls_id</th>\n",
       "      <th>smoking_se</th>\n",
       "      <th>smoking_logit_se</th>\n",
       "      <th>pred_stage1</th>\n",
       "      <th>resi_stage1</th>\n",
       "    </tr>\n",
       "  </thead>\n",
       "  <tbody>\n",
       "    <tr>\n",
       "      <th>0</th>\n",
       "      <td>1</td>\n",
       "      <td>10</td>\n",
       "      <td>1990</td>\n",
       "      <td>2</td>\n",
       "      <td>0.023706</td>\n",
       "      <td>0.264201</td>\n",
       "      <td>-3.718032</td>\n",
       "      <td>102</td>\n",
       "      <td>0.090516</td>\n",
       "      <td>1.269764</td>\n",
       "      <td>-3.379429</td>\n",
       "      <td>-0.338602</td>\n",
       "    </tr>\n",
       "    <tr>\n",
       "      <th>1</th>\n",
       "      <td>2</td>\n",
       "      <td>10</td>\n",
       "      <td>1990</td>\n",
       "      <td>1</td>\n",
       "      <td>0.283392</td>\n",
       "      <td>0.264201</td>\n",
       "      <td>-0.927695</td>\n",
       "      <td>101</td>\n",
       "      <td>0.090516</td>\n",
       "      <td>1.269764</td>\n",
       "      <td>-3.379429</td>\n",
       "      <td>2.451734</td>\n",
       "    </tr>\n",
       "    <tr>\n",
       "      <th>2</th>\n",
       "      <td>3</td>\n",
       "      <td>10</td>\n",
       "      <td>1991</td>\n",
       "      <td>2</td>\n",
       "      <td>0.023371</td>\n",
       "      <td>0.269285</td>\n",
       "      <td>-3.732612</td>\n",
       "      <td>102</td>\n",
       "      <td>0.090516</td>\n",
       "      <td>1.269764</td>\n",
       "      <td>-3.364603</td>\n",
       "      <td>-0.368009</td>\n",
       "    </tr>\n",
       "    <tr>\n",
       "      <th>3</th>\n",
       "      <td>4</td>\n",
       "      <td>10</td>\n",
       "      <td>1991</td>\n",
       "      <td>1</td>\n",
       "      <td>0.279966</td>\n",
       "      <td>0.269285</td>\n",
       "      <td>-0.944631</td>\n",
       "      <td>101</td>\n",
       "      <td>0.090516</td>\n",
       "      <td>1.269764</td>\n",
       "      <td>-3.364603</td>\n",
       "      <td>2.419972</td>\n",
       "    </tr>\n",
       "    <tr>\n",
       "      <th>4</th>\n",
       "      <td>5</td>\n",
       "      <td>10</td>\n",
       "      <td>1992</td>\n",
       "      <td>2</td>\n",
       "      <td>0.023096</td>\n",
       "      <td>0.274936</td>\n",
       "      <td>-3.744748</td>\n",
       "      <td>102</td>\n",
       "      <td>0.090516</td>\n",
       "      <td>1.269764</td>\n",
       "      <td>-3.348126</td>\n",
       "      <td>-0.396622</td>\n",
       "    </tr>\n",
       "  </tbody>\n",
       "</table>\n",
       "</div>"
      ],
      "text/plain": [
       "   Unnamed: 0  location_id  year_id  sex_id   smoking       sdi  \\\n",
       "0           1           10     1990       2  0.023706  0.264201   \n",
       "1           2           10     1990       1  0.283392  0.264201   \n",
       "2           3           10     1991       2  0.023371  0.269285   \n",
       "3           4           10     1991       1  0.279966  0.269285   \n",
       "4           5           10     1992       2  0.023096  0.274936   \n",
       "\n",
       "   smoking_logit  ls_id  smoking_se  smoking_logit_se  pred_stage1  \\\n",
       "0      -3.718032    102    0.090516          1.269764    -3.379429   \n",
       "1      -0.927695    101    0.090516          1.269764    -3.379429   \n",
       "2      -3.732612    102    0.090516          1.269764    -3.364603   \n",
       "3      -0.944631    101    0.090516          1.269764    -3.364603   \n",
       "4      -3.744748    102    0.090516          1.269764    -3.348126   \n",
       "\n",
       "   resi_stage1  \n",
       "0    -0.338602  \n",
       "1     2.451734  \n",
       "2    -0.368009  \n",
       "3     2.419972  \n",
       "4    -0.396622  "
      ]
     },
     "execution_count": 11,
     "metadata": {},
     "output_type": "execute_result"
    }
   ],
   "source": [
    "df_stage1.head()"
   ]
  },
  {
   "cell_type": "code",
   "execution_count": 12,
   "metadata": {},
   "outputs": [],
   "source": [
    "data_stage2 = MRData()\n",
    "data_stage2.load_df(\n",
    "    df_stage1,\n",
    "    col_obs='resi_stage1',\n",
    "    col_obs_se=f'{indicator}_logit_se',\n",
    "    col_covs=['sdi'],\n",
    "    col_study_id='ls_id'\n",
    ")"
   ]
  },
  {
   "cell_type": "code",
   "execution_count": 13,
   "metadata": {},
   "outputs": [],
   "source": [
    "model_stage2 = StudyModel(data_stage2, cov_models2)"
   ]
  },
  {
   "cell_type": "code",
   "execution_count": 14,
   "metadata": {},
   "outputs": [],
   "source": [
    "model_stage2.fit_model()"
   ]
  },
  {
   "cell_type": "markdown",
   "metadata": {},
   "source": [
    "### Using TwoStage Model"
   ]
  },
  {
   "cell_type": "code",
   "execution_count": 15,
   "metadata": {},
   "outputs": [],
   "source": [
    "cov_models1 = [\n",
    "    LinearCovModel('intercept'),\n",
    "    LinearCovModel('sdi',\n",
    "                   use_spline=True,\n",
    "                   spline_knots=np.linspace(0.0, 1.0, 5),\n",
    "                   spline_l_linear=True,\n",
    "                   spline_r_linear=True)\n",
    "]\n",
    "cov_models2 = [LinearCovModel('intercept'), LinearCovModel('sdi')]"
   ]
  },
  {
   "cell_type": "code",
   "execution_count": 16,
   "metadata": {},
   "outputs": [],
   "source": [
    "tsmodel = TwoStageModel(data_stage1, cov_models1, cov_models2)"
   ]
  },
  {
   "cell_type": "code",
   "execution_count": 17,
   "metadata": {},
   "outputs": [],
   "source": [
    "tsmodel.fit_model()"
   ]
  },
  {
   "cell_type": "code",
   "execution_count": 18,
   "metadata": {},
   "outputs": [
    {
     "data": {
      "text/html": [
       "<div>\n",
       "<style scoped>\n",
       "    .dataframe tbody tr th:only-of-type {\n",
       "        vertical-align: middle;\n",
       "    }\n",
       "\n",
       "    .dataframe tbody tr th {\n",
       "        vertical-align: top;\n",
       "    }\n",
       "\n",
       "    .dataframe thead th {\n",
       "        text-align: right;\n",
       "    }\n",
       "</style>\n",
       "<table border=\"1\" class=\"dataframe\">\n",
       "  <thead>\n",
       "    <tr style=\"text-align: right;\">\n",
       "      <th></th>\n",
       "      <th>obs</th>\n",
       "      <th>obs_se</th>\n",
       "      <th>study_id</th>\n",
       "      <th>sdi</th>\n",
       "      <th>year_id</th>\n",
       "      <th>intercept</th>\n",
       "      <th>prediction</th>\n",
       "      <th>residual</th>\n",
       "    </tr>\n",
       "  </thead>\n",
       "  <tbody>\n",
       "    <tr>\n",
       "      <th>0</th>\n",
       "      <td>-3.718032</td>\n",
       "      <td>1.269764</td>\n",
       "      <td>102</td>\n",
       "      <td>0.264201</td>\n",
       "      <td>1990</td>\n",
       "      <td>1.0</td>\n",
       "      <td>-3.717629</td>\n",
       "      <td>-0.000403</td>\n",
       "    </tr>\n",
       "    <tr>\n",
       "      <th>1</th>\n",
       "      <td>-0.927695</td>\n",
       "      <td>1.269764</td>\n",
       "      <td>101</td>\n",
       "      <td>0.264201</td>\n",
       "      <td>1990</td>\n",
       "      <td>1.0</td>\n",
       "      <td>-0.937145</td>\n",
       "      <td>0.009449</td>\n",
       "    </tr>\n",
       "    <tr>\n",
       "      <th>2</th>\n",
       "      <td>-3.732612</td>\n",
       "      <td>1.269764</td>\n",
       "      <td>102</td>\n",
       "      <td>0.269285</td>\n",
       "      <td>1991</td>\n",
       "      <td>1.0</td>\n",
       "      <td>-3.718999</td>\n",
       "      <td>-0.013613</td>\n",
       "    </tr>\n",
       "    <tr>\n",
       "      <th>3</th>\n",
       "      <td>-0.944631</td>\n",
       "      <td>1.269764</td>\n",
       "      <td>101</td>\n",
       "      <td>0.269285</td>\n",
       "      <td>1991</td>\n",
       "      <td>1.0</td>\n",
       "      <td>-0.938807</td>\n",
       "      <td>-0.005824</td>\n",
       "    </tr>\n",
       "    <tr>\n",
       "      <th>4</th>\n",
       "      <td>-3.744748</td>\n",
       "      <td>1.269764</td>\n",
       "      <td>102</td>\n",
       "      <td>0.274936</td>\n",
       "      <td>1992</td>\n",
       "      <td>1.0</td>\n",
       "      <td>-3.720522</td>\n",
       "      <td>-0.024226</td>\n",
       "    </tr>\n",
       "    <tr>\n",
       "      <th>...</th>\n",
       "      <td>...</td>\n",
       "      <td>...</td>\n",
       "      <td>...</td>\n",
       "      <td>...</td>\n",
       "      <td>...</td>\n",
       "      <td>...</td>\n",
       "      <td>...</td>\n",
       "      <td>...</td>\n",
       "    </tr>\n",
       "    <tr>\n",
       "      <th>12235</th>\n",
       "      <td>-1.355529</td>\n",
       "      <td>1.269764</td>\n",
       "      <td>991</td>\n",
       "      <td>0.689284</td>\n",
       "      <td>2017</td>\n",
       "      <td>1.0</td>\n",
       "      <td>-1.322512</td>\n",
       "      <td>-0.033017</td>\n",
       "    </tr>\n",
       "    <tr>\n",
       "      <th>12236</th>\n",
       "      <td>-1.945212</td>\n",
       "      <td>1.269764</td>\n",
       "      <td>992</td>\n",
       "      <td>0.694041</td>\n",
       "      <td>2018</td>\n",
       "      <td>1.0</td>\n",
       "      <td>-1.875838</td>\n",
       "      <td>-0.069374</td>\n",
       "    </tr>\n",
       "    <tr>\n",
       "      <th>12237</th>\n",
       "      <td>-1.368356</td>\n",
       "      <td>1.269764</td>\n",
       "      <td>991</td>\n",
       "      <td>0.694041</td>\n",
       "      <td>2018</td>\n",
       "      <td>1.0</td>\n",
       "      <td>-1.329570</td>\n",
       "      <td>-0.038785</td>\n",
       "    </tr>\n",
       "    <tr>\n",
       "      <th>12238</th>\n",
       "      <td>-1.962946</td>\n",
       "      <td>1.269764</td>\n",
       "      <td>992</td>\n",
       "      <td>0.697889</td>\n",
       "      <td>2019</td>\n",
       "      <td>1.0</td>\n",
       "      <td>-1.875045</td>\n",
       "      <td>-0.087901</td>\n",
       "    </tr>\n",
       "    <tr>\n",
       "      <th>12239</th>\n",
       "      <td>-1.379822</td>\n",
       "      <td>1.269764</td>\n",
       "      <td>991</td>\n",
       "      <td>0.697889</td>\n",
       "      <td>2019</td>\n",
       "      <td>1.0</td>\n",
       "      <td>-1.335643</td>\n",
       "      <td>-0.044179</td>\n",
       "    </tr>\n",
       "  </tbody>\n",
       "</table>\n",
       "<p>12240 rows × 8 columns</p>\n",
       "</div>"
      ],
      "text/plain": [
       "            obs    obs_se  study_id       sdi  year_id  intercept  prediction  \\\n",
       "0     -3.718032  1.269764       102  0.264201     1990        1.0   -3.717629   \n",
       "1     -0.927695  1.269764       101  0.264201     1990        1.0   -0.937145   \n",
       "2     -3.732612  1.269764       102  0.269285     1991        1.0   -3.718999   \n",
       "3     -0.944631  1.269764       101  0.269285     1991        1.0   -0.938807   \n",
       "4     -3.744748  1.269764       102  0.274936     1992        1.0   -3.720522   \n",
       "...         ...       ...       ...       ...      ...        ...         ...   \n",
       "12235 -1.355529  1.269764       991  0.689284     2017        1.0   -1.322512   \n",
       "12236 -1.945212  1.269764       992  0.694041     2018        1.0   -1.875838   \n",
       "12237 -1.368356  1.269764       991  0.694041     2018        1.0   -1.329570   \n",
       "12238 -1.962946  1.269764       992  0.697889     2019        1.0   -1.875045   \n",
       "12239 -1.379822  1.269764       991  0.697889     2019        1.0   -1.335643   \n",
       "\n",
       "       residual  \n",
       "0     -0.000403  \n",
       "1      0.009449  \n",
       "2     -0.013613  \n",
       "3     -0.005824  \n",
       "4     -0.024226  \n",
       "...         ...  \n",
       "12235 -0.033017  \n",
       "12236 -0.069374  \n",
       "12237 -0.038785  \n",
       "12238 -0.087901  \n",
       "12239 -0.044179  \n",
       "\n",
       "[12240 rows x 8 columns]"
      ]
     },
     "execution_count": 18,
     "metadata": {},
     "output_type": "execute_result"
    }
   ],
   "source": [
    "result_to_df(tsmodel, tsmodel.data1)"
   ]
  },
  {
   "cell_type": "markdown",
   "metadata": {},
   "source": [
    "### Using StageWise"
   ]
  },
  {
   "cell_type": "code",
   "execution_count": 19,
   "metadata": {},
   "outputs": [],
   "source": [
    "cov_models1 = [\n",
    "    LinearCovModel('intercept'),\n",
    "    LinearCovModel('sdi',\n",
    "                   use_spline=True,\n",
    "                   spline_knots=np.linspace(0.0, 1.0, 5),\n",
    "                   spline_l_linear=True,\n",
    "                   spline_r_linear=True)\n",
    "]\n",
    "cov_models2 = [LinearCovModel('intercept'), LinearCovModel('sdi')]"
   ]
  },
  {
   "cell_type": "code",
   "execution_count": 20,
   "metadata": {},
   "outputs": [],
   "source": [
    "swmodel = StagewiseModel(data_stage1, [OverallModel(cov_models=cov_models1),\n",
    "                                       StudyModel(cov_models=cov_models2)])"
   ]
  },
  {
   "cell_type": "code",
   "execution_count": 21,
   "metadata": {},
   "outputs": [],
   "source": [
    "swmodel.fit_model()"
   ]
  },
  {
   "cell_type": "code",
   "execution_count": 22,
   "metadata": {},
   "outputs": [
    {
     "data": {
      "text/html": [
       "<div>\n",
       "<style scoped>\n",
       "    .dataframe tbody tr th:only-of-type {\n",
       "        vertical-align: middle;\n",
       "    }\n",
       "\n",
       "    .dataframe tbody tr th {\n",
       "        vertical-align: top;\n",
       "    }\n",
       "\n",
       "    .dataframe thead th {\n",
       "        text-align: right;\n",
       "    }\n",
       "</style>\n",
       "<table border=\"1\" class=\"dataframe\">\n",
       "  <thead>\n",
       "    <tr style=\"text-align: right;\">\n",
       "      <th></th>\n",
       "      <th>name</th>\n",
       "      <th>value</th>\n",
       "    </tr>\n",
       "  </thead>\n",
       "  <tbody>\n",
       "    <tr>\n",
       "      <th>0</th>\n",
       "      <td>intercept_0</td>\n",
       "      <td>-2.925762</td>\n",
       "    </tr>\n",
       "    <tr>\n",
       "      <th>1</th>\n",
       "      <td>sdi_0</td>\n",
       "      <td>0.159236</td>\n",
       "    </tr>\n",
       "    <tr>\n",
       "      <th>2</th>\n",
       "      <td>sdi_1</td>\n",
       "      <td>0.261596</td>\n",
       "    </tr>\n",
       "    <tr>\n",
       "      <th>3</th>\n",
       "      <td>sdi_2</td>\n",
       "      <td>0.745613</td>\n",
       "    </tr>\n",
       "    <tr>\n",
       "      <th>4</th>\n",
       "      <td>sdi_3</td>\n",
       "      <td>0.867643</td>\n",
       "    </tr>\n",
       "  </tbody>\n",
       "</table>\n",
       "</div>"
      ],
      "text/plain": [
       "          name     value\n",
       "0  intercept_0 -2.925762\n",
       "1        sdi_0  0.159236\n",
       "2        sdi_1  0.261596\n",
       "3        sdi_2  0.745613\n",
       "4        sdi_3  0.867643"
      ]
     },
     "execution_count": 22,
     "metadata": {},
     "output_type": "execute_result"
    }
   ],
   "source": [
    "swmodel.soln_to_df(0)"
   ]
  },
  {
   "cell_type": "code",
   "execution_count": 23,
   "metadata": {},
   "outputs": [
    {
     "data": {
      "text/html": [
       "<div>\n",
       "<style scoped>\n",
       "    .dataframe tbody tr th:only-of-type {\n",
       "        vertical-align: middle;\n",
       "    }\n",
       "\n",
       "    .dataframe tbody tr th {\n",
       "        vertical-align: top;\n",
       "    }\n",
       "\n",
       "    .dataframe thead th {\n",
       "        text-align: right;\n",
       "    }\n",
       "</style>\n",
       "<table border=\"1\" class=\"dataframe\">\n",
       "  <thead>\n",
       "    <tr style=\"text-align: right;\">\n",
       "      <th></th>\n",
       "      <th>study_id</th>\n",
       "      <th>intercept</th>\n",
       "      <th>sdi</th>\n",
       "    </tr>\n",
       "  </thead>\n",
       "  <tbody>\n",
       "    <tr>\n",
       "      <th>0</th>\n",
       "      <td>61</td>\n",
       "      <td>3.704158</td>\n",
       "      <td>-3.597553</td>\n",
       "    </tr>\n",
       "    <tr>\n",
       "      <th>1</th>\n",
       "      <td>62</td>\n",
       "      <td>0.020676</td>\n",
       "      <td>-2.586211</td>\n",
       "    </tr>\n",
       "    <tr>\n",
       "      <th>2</th>\n",
       "      <td>71</td>\n",
       "      <td>2.487558</td>\n",
       "      <td>-1.656463</td>\n",
       "    </tr>\n",
       "    <tr>\n",
       "      <th>3</th>\n",
       "      <td>72</td>\n",
       "      <td>-0.900860</td>\n",
       "      <td>-0.702755</td>\n",
       "    </tr>\n",
       "    <tr>\n",
       "      <th>4</th>\n",
       "      <td>81</td>\n",
       "      <td>4.734837</td>\n",
       "      <td>-5.053254</td>\n",
       "    </tr>\n",
       "    <tr>\n",
       "      <th>...</th>\n",
       "      <td>...</td>\n",
       "      <td>...</td>\n",
       "      <td>...</td>\n",
       "    </tr>\n",
       "    <tr>\n",
       "      <th>403</th>\n",
       "      <td>4222</td>\n",
       "      <td>1.558189</td>\n",
       "      <td>-3.626535</td>\n",
       "    </tr>\n",
       "    <tr>\n",
       "      <th>404</th>\n",
       "      <td>4351</td>\n",
       "      <td>2.175580</td>\n",
       "      <td>-4.435465</td>\n",
       "    </tr>\n",
       "    <tr>\n",
       "      <th>405</th>\n",
       "      <td>4352</td>\n",
       "      <td>-0.292475</td>\n",
       "      <td>-4.073091</td>\n",
       "    </tr>\n",
       "    <tr>\n",
       "      <th>406</th>\n",
       "      <td>5221</td>\n",
       "      <td>2.624492</td>\n",
       "      <td>-3.012964</td>\n",
       "    </tr>\n",
       "    <tr>\n",
       "      <th>407</th>\n",
       "      <td>5222</td>\n",
       "      <td>-0.166245</td>\n",
       "      <td>-2.970201</td>\n",
       "    </tr>\n",
       "  </tbody>\n",
       "</table>\n",
       "<p>408 rows × 3 columns</p>\n",
       "</div>"
      ],
      "text/plain": [
       "     study_id  intercept       sdi\n",
       "0          61   3.704158 -3.597553\n",
       "1          62   0.020676 -2.586211\n",
       "2          71   2.487558 -1.656463\n",
       "3          72  -0.900860 -0.702755\n",
       "4          81   4.734837 -5.053254\n",
       "..        ...        ...       ...\n",
       "403      4222   1.558189 -3.626535\n",
       "404      4351   2.175580 -4.435465\n",
       "405      4352  -0.292475 -4.073091\n",
       "406      5221   2.624492 -3.012964\n",
       "407      5222  -0.166245 -2.970201\n",
       "\n",
       "[408 rows x 3 columns]"
      ]
     },
     "execution_count": 23,
     "metadata": {},
     "output_type": "execute_result"
    }
   ],
   "source": [
    "swmodel.soln_to_df(1)"
   ]
  },
  {
   "cell_type": "code",
   "execution_count": 24,
   "metadata": {},
   "outputs": [
    {
     "data": {
      "text/html": [
       "<div>\n",
       "<style scoped>\n",
       "    .dataframe tbody tr th:only-of-type {\n",
       "        vertical-align: middle;\n",
       "    }\n",
       "\n",
       "    .dataframe tbody tr th {\n",
       "        vertical-align: top;\n",
       "    }\n",
       "\n",
       "    .dataframe thead th {\n",
       "        text-align: right;\n",
       "    }\n",
       "</style>\n",
       "<table border=\"1\" class=\"dataframe\">\n",
       "  <thead>\n",
       "    <tr style=\"text-align: right;\">\n",
       "      <th></th>\n",
       "      <th>obs</th>\n",
       "      <th>obs_se</th>\n",
       "      <th>study_id</th>\n",
       "      <th>sdi</th>\n",
       "      <th>year_id</th>\n",
       "      <th>intercept</th>\n",
       "      <th>prediction</th>\n",
       "      <th>residual</th>\n",
       "    </tr>\n",
       "  </thead>\n",
       "  <tbody>\n",
       "    <tr>\n",
       "      <th>0</th>\n",
       "      <td>-3.718032</td>\n",
       "      <td>1.269764</td>\n",
       "      <td>102</td>\n",
       "      <td>0.264201</td>\n",
       "      <td>1990</td>\n",
       "      <td>1.0</td>\n",
       "      <td>-3.717629</td>\n",
       "      <td>-0.000403</td>\n",
       "    </tr>\n",
       "    <tr>\n",
       "      <th>1</th>\n",
       "      <td>-0.927695</td>\n",
       "      <td>1.269764</td>\n",
       "      <td>101</td>\n",
       "      <td>0.264201</td>\n",
       "      <td>1990</td>\n",
       "      <td>1.0</td>\n",
       "      <td>-0.937145</td>\n",
       "      <td>0.009449</td>\n",
       "    </tr>\n",
       "    <tr>\n",
       "      <th>2</th>\n",
       "      <td>-3.732612</td>\n",
       "      <td>1.269764</td>\n",
       "      <td>102</td>\n",
       "      <td>0.269285</td>\n",
       "      <td>1991</td>\n",
       "      <td>1.0</td>\n",
       "      <td>-3.718999</td>\n",
       "      <td>-0.013613</td>\n",
       "    </tr>\n",
       "    <tr>\n",
       "      <th>3</th>\n",
       "      <td>-0.944631</td>\n",
       "      <td>1.269764</td>\n",
       "      <td>101</td>\n",
       "      <td>0.269285</td>\n",
       "      <td>1991</td>\n",
       "      <td>1.0</td>\n",
       "      <td>-0.938807</td>\n",
       "      <td>-0.005824</td>\n",
       "    </tr>\n",
       "    <tr>\n",
       "      <th>4</th>\n",
       "      <td>-3.744748</td>\n",
       "      <td>1.269764</td>\n",
       "      <td>102</td>\n",
       "      <td>0.274936</td>\n",
       "      <td>1992</td>\n",
       "      <td>1.0</td>\n",
       "      <td>-3.720522</td>\n",
       "      <td>-0.024226</td>\n",
       "    </tr>\n",
       "    <tr>\n",
       "      <th>...</th>\n",
       "      <td>...</td>\n",
       "      <td>...</td>\n",
       "      <td>...</td>\n",
       "      <td>...</td>\n",
       "      <td>...</td>\n",
       "      <td>...</td>\n",
       "      <td>...</td>\n",
       "      <td>...</td>\n",
       "    </tr>\n",
       "    <tr>\n",
       "      <th>12235</th>\n",
       "      <td>-1.355529</td>\n",
       "      <td>1.269764</td>\n",
       "      <td>991</td>\n",
       "      <td>0.689284</td>\n",
       "      <td>2017</td>\n",
       "      <td>1.0</td>\n",
       "      <td>-1.322512</td>\n",
       "      <td>-0.033017</td>\n",
       "    </tr>\n",
       "    <tr>\n",
       "      <th>12236</th>\n",
       "      <td>-1.945212</td>\n",
       "      <td>1.269764</td>\n",
       "      <td>992</td>\n",
       "      <td>0.694041</td>\n",
       "      <td>2018</td>\n",
       "      <td>1.0</td>\n",
       "      <td>-1.875838</td>\n",
       "      <td>-0.069374</td>\n",
       "    </tr>\n",
       "    <tr>\n",
       "      <th>12237</th>\n",
       "      <td>-1.368356</td>\n",
       "      <td>1.269764</td>\n",
       "      <td>991</td>\n",
       "      <td>0.694041</td>\n",
       "      <td>2018</td>\n",
       "      <td>1.0</td>\n",
       "      <td>-1.329570</td>\n",
       "      <td>-0.038785</td>\n",
       "    </tr>\n",
       "    <tr>\n",
       "      <th>12238</th>\n",
       "      <td>-1.962946</td>\n",
       "      <td>1.269764</td>\n",
       "      <td>992</td>\n",
       "      <td>0.697889</td>\n",
       "      <td>2019</td>\n",
       "      <td>1.0</td>\n",
       "      <td>-1.875045</td>\n",
       "      <td>-0.087901</td>\n",
       "    </tr>\n",
       "    <tr>\n",
       "      <th>12239</th>\n",
       "      <td>-1.379822</td>\n",
       "      <td>1.269764</td>\n",
       "      <td>991</td>\n",
       "      <td>0.697889</td>\n",
       "      <td>2019</td>\n",
       "      <td>1.0</td>\n",
       "      <td>-1.335643</td>\n",
       "      <td>-0.044179</td>\n",
       "    </tr>\n",
       "  </tbody>\n",
       "</table>\n",
       "<p>12240 rows × 8 columns</p>\n",
       "</div>"
      ],
      "text/plain": [
       "            obs    obs_se  study_id       sdi  year_id  intercept  prediction  \\\n",
       "0     -3.718032  1.269764       102  0.264201     1990        1.0   -3.717629   \n",
       "1     -0.927695  1.269764       101  0.264201     1990        1.0   -0.937145   \n",
       "2     -3.732612  1.269764       102  0.269285     1991        1.0   -3.718999   \n",
       "3     -0.944631  1.269764       101  0.269285     1991        1.0   -0.938807   \n",
       "4     -3.744748  1.269764       102  0.274936     1992        1.0   -3.720522   \n",
       "...         ...       ...       ...       ...      ...        ...         ...   \n",
       "12235 -1.355529  1.269764       991  0.689284     2017        1.0   -1.322512   \n",
       "12236 -1.945212  1.269764       992  0.694041     2018        1.0   -1.875838   \n",
       "12237 -1.368356  1.269764       991  0.694041     2018        1.0   -1.329570   \n",
       "12238 -1.962946  1.269764       992  0.697889     2019        1.0   -1.875045   \n",
       "12239 -1.379822  1.269764       991  0.697889     2019        1.0   -1.335643   \n",
       "\n",
       "       residual  \n",
       "0     -0.000403  \n",
       "1      0.009449  \n",
       "2     -0.013613  \n",
       "3     -0.005824  \n",
       "4     -0.024226  \n",
       "...         ...  \n",
       "12235 -0.033017  \n",
       "12236 -0.069374  \n",
       "12237 -0.038785  \n",
       "12238 -0.087901  \n",
       "12239 -0.044179  \n",
       "\n",
       "[12240 rows x 8 columns]"
      ]
     },
     "execution_count": 24,
     "metadata": {},
     "output_type": "execute_result"
    }
   ],
   "source": [
    "swmodel.result_to_df()"
   ]
  },
  {
   "cell_type": "markdown",
   "metadata": {},
   "source": [
    "### Compare Fit"
   ]
  },
  {
   "cell_type": "code",
   "execution_count": 25,
   "metadata": {},
   "outputs": [
    {
     "name": "stdout",
     "output_type": "stream",
     "text": [
      "[-1.77635684e-15 -7.77156117e-16  6.93889390e-15 -3.33066907e-16\n",
      "  8.88178420e-16]\n",
      "[-1.77635684e-15 -7.77156117e-16  6.93889390e-15 -3.33066907e-16\n",
      "  8.88178420e-16]\n"
     ]
    }
   ],
   "source": [
    "print(model_stage1.soln - tsmodel.model1.soln)\n",
    "print(model_stage1.soln - swmodel.node_models[0].soln)"
   ]
  },
  {
   "cell_type": "code",
   "execution_count": 26,
   "metadata": {},
   "outputs": [],
   "source": [
    "for ls_id, soln in model_stage2.soln.items():\n",
    "    assert np.linalg.norm(soln - tsmodel.model2.soln[ls_id]) / np.linalg.norm(soln) < 1e-5\n",
    "    assert np.linalg.norm(soln - swmodel.node_models[1].soln[ls_id]) / np.linalg.norm(soln) < 1e-5"
   ]
  },
  {
   "cell_type": "markdown",
   "metadata": {},
   "source": [
    "### Compare prediction"
   ]
  },
  {
   "cell_type": "markdown",
   "metadata": {},
   "source": [
    "- predictions from OverallModel + StudyModel"
   ]
  },
  {
   "cell_type": "code",
   "execution_count": 27,
   "metadata": {},
   "outputs": [],
   "source": [
    "model_stage2.data._sort_by_data_id()\n",
    "df_stage2 = result_to_df(model_stage2, model_stage2.data, prediction='pred_stage2', residual='resi_stage2')\n",
    "df_stage2 = pd.merge(df_stage1, df_stage2[['pred_stage2', 'resi_stage2']], left_index=True, right_index=True)"
   ]
  },
  {
   "cell_type": "code",
   "execution_count": 28,
   "metadata": {},
   "outputs": [
    {
     "data": {
      "text/html": [
       "<div>\n",
       "<style scoped>\n",
       "    .dataframe tbody tr th:only-of-type {\n",
       "        vertical-align: middle;\n",
       "    }\n",
       "\n",
       "    .dataframe tbody tr th {\n",
       "        vertical-align: top;\n",
       "    }\n",
       "\n",
       "    .dataframe thead th {\n",
       "        text-align: right;\n",
       "    }\n",
       "</style>\n",
       "<table border=\"1\" class=\"dataframe\">\n",
       "  <thead>\n",
       "    <tr style=\"text-align: right;\">\n",
       "      <th></th>\n",
       "      <th>Unnamed: 0</th>\n",
       "      <th>location_id</th>\n",
       "      <th>year_id</th>\n",
       "      <th>sex_id</th>\n",
       "      <th>smoking</th>\n",
       "      <th>sdi</th>\n",
       "      <th>smoking_logit</th>\n",
       "      <th>ls_id</th>\n",
       "      <th>smoking_se</th>\n",
       "      <th>smoking_logit_se</th>\n",
       "      <th>pred_stage1</th>\n",
       "      <th>resi_stage1</th>\n",
       "      <th>pred_stage2</th>\n",
       "      <th>resi_stage2</th>\n",
       "    </tr>\n",
       "  </thead>\n",
       "  <tbody>\n",
       "    <tr>\n",
       "      <th>0</th>\n",
       "      <td>1</td>\n",
       "      <td>10</td>\n",
       "      <td>1990</td>\n",
       "      <td>2</td>\n",
       "      <td>0.023706</td>\n",
       "      <td>0.264201</td>\n",
       "      <td>-3.718032</td>\n",
       "      <td>102</td>\n",
       "      <td>0.090516</td>\n",
       "      <td>1.269764</td>\n",
       "      <td>-3.379429</td>\n",
       "      <td>-0.338602</td>\n",
       "      <td>-0.338200</td>\n",
       "      <td>-0.000403</td>\n",
       "    </tr>\n",
       "    <tr>\n",
       "      <th>1</th>\n",
       "      <td>2</td>\n",
       "      <td>10</td>\n",
       "      <td>1990</td>\n",
       "      <td>1</td>\n",
       "      <td>0.283392</td>\n",
       "      <td>0.264201</td>\n",
       "      <td>-0.927695</td>\n",
       "      <td>101</td>\n",
       "      <td>0.090516</td>\n",
       "      <td>1.269764</td>\n",
       "      <td>-3.379429</td>\n",
       "      <td>2.451734</td>\n",
       "      <td>2.442284</td>\n",
       "      <td>0.009449</td>\n",
       "    </tr>\n",
       "    <tr>\n",
       "      <th>2</th>\n",
       "      <td>3</td>\n",
       "      <td>10</td>\n",
       "      <td>1991</td>\n",
       "      <td>2</td>\n",
       "      <td>0.023371</td>\n",
       "      <td>0.269285</td>\n",
       "      <td>-3.732612</td>\n",
       "      <td>102</td>\n",
       "      <td>0.090516</td>\n",
       "      <td>1.269764</td>\n",
       "      <td>-3.364603</td>\n",
       "      <td>-0.368009</td>\n",
       "      <td>-0.354396</td>\n",
       "      <td>-0.013613</td>\n",
       "    </tr>\n",
       "    <tr>\n",
       "      <th>3</th>\n",
       "      <td>4</td>\n",
       "      <td>10</td>\n",
       "      <td>1991</td>\n",
       "      <td>1</td>\n",
       "      <td>0.279966</td>\n",
       "      <td>0.269285</td>\n",
       "      <td>-0.944631</td>\n",
       "      <td>101</td>\n",
       "      <td>0.090516</td>\n",
       "      <td>1.269764</td>\n",
       "      <td>-3.364603</td>\n",
       "      <td>2.419972</td>\n",
       "      <td>2.425796</td>\n",
       "      <td>-0.005824</td>\n",
       "    </tr>\n",
       "    <tr>\n",
       "      <th>4</th>\n",
       "      <td>5</td>\n",
       "      <td>10</td>\n",
       "      <td>1992</td>\n",
       "      <td>2</td>\n",
       "      <td>0.023096</td>\n",
       "      <td>0.274936</td>\n",
       "      <td>-3.744748</td>\n",
       "      <td>102</td>\n",
       "      <td>0.090516</td>\n",
       "      <td>1.269764</td>\n",
       "      <td>-3.348126</td>\n",
       "      <td>-0.396622</td>\n",
       "      <td>-0.372396</td>\n",
       "      <td>-0.024226</td>\n",
       "    </tr>\n",
       "  </tbody>\n",
       "</table>\n",
       "</div>"
      ],
      "text/plain": [
       "   Unnamed: 0  location_id  year_id  sex_id   smoking       sdi  \\\n",
       "0           1           10     1990       2  0.023706  0.264201   \n",
       "1           2           10     1990       1  0.283392  0.264201   \n",
       "2           3           10     1991       2  0.023371  0.269285   \n",
       "3           4           10     1991       1  0.279966  0.269285   \n",
       "4           5           10     1992       2  0.023096  0.274936   \n",
       "\n",
       "   smoking_logit  ls_id  smoking_se  smoking_logit_se  pred_stage1  \\\n",
       "0      -3.718032    102    0.090516          1.269764    -3.379429   \n",
       "1      -0.927695    101    0.090516          1.269764    -3.379429   \n",
       "2      -3.732612    102    0.090516          1.269764    -3.364603   \n",
       "3      -0.944631    101    0.090516          1.269764    -3.364603   \n",
       "4      -3.744748    102    0.090516          1.269764    -3.348126   \n",
       "\n",
       "   resi_stage1  pred_stage2  resi_stage2  \n",
       "0    -0.338602    -0.338200    -0.000403  \n",
       "1     2.451734     2.442284     0.009449  \n",
       "2    -0.368009    -0.354396    -0.013613  \n",
       "3     2.419972     2.425796    -0.005824  \n",
       "4    -0.396622    -0.372396    -0.024226  "
      ]
     },
     "execution_count": 28,
     "metadata": {},
     "output_type": "execute_result"
    }
   ],
   "source": [
    "df_stage2.head()"
   ]
  },
  {
   "cell_type": "code",
   "execution_count": 29,
   "metadata": {},
   "outputs": [],
   "source": [
    "prediction = df_stage2['pred_stage1'].values + df_stage2['pred_stage2'].values"
   ]
  },
  {
   "cell_type": "markdown",
   "metadata": {},
   "source": [
    "- prediction from TwoStageModel"
   ]
  },
  {
   "cell_type": "code",
   "execution_count": 30,
   "metadata": {},
   "outputs": [],
   "source": [
    "prediction_ts = tsmodel.predict()"
   ]
  },
  {
   "cell_type": "code",
   "execution_count": 31,
   "metadata": {},
   "outputs": [
    {
     "data": {
      "text/plain": [
       "2.4079380836144286e-12"
      ]
     },
     "execution_count": 31,
     "metadata": {},
     "output_type": "execute_result"
    }
   ],
   "source": [
    "np.linalg.norm(prediction_ts - prediction)"
   ]
  },
  {
   "cell_type": "markdown",
   "metadata": {},
   "source": [
    "- prediction from stagewise model"
   ]
  },
  {
   "cell_type": "code",
   "execution_count": 32,
   "metadata": {},
   "outputs": [],
   "source": [
    "prediction_sw = swmodel.predict()"
   ]
  },
  {
   "cell_type": "code",
   "execution_count": 33,
   "metadata": {},
   "outputs": [
    {
     "data": {
      "text/plain": [
       "2.4079380836144286e-12"
      ]
     },
     "execution_count": 33,
     "metadata": {},
     "output_type": "execute_result"
    }
   ],
   "source": [
    "np.linalg.norm(prediction_sw - prediction)"
   ]
  },
  {
   "cell_type": "markdown",
   "metadata": {},
   "source": [
    "- predict with quantile"
   ]
  },
  {
   "cell_type": "code",
   "execution_count": 34,
   "metadata": {},
   "outputs": [
    {
     "data": {
      "text/plain": [
       "array([-3.71762907, -0.93714472, -3.71899941, ..., -1.32957045,\n",
       "       -1.8750451 , -1.33564329])"
      ]
     },
     "execution_count": 34,
     "metadata": {},
     "output_type": "execute_result"
    }
   ],
   "source": [
    "prediction_ts"
   ]
  },
  {
   "cell_type": "code",
   "execution_count": 35,
   "metadata": {},
   "outputs": [
    {
     "data": {
      "text/plain": [
       "array([-4.70248932, -1.90681603, -4.72281183, ..., -2.72624286,\n",
       "       -4.5245548 , -2.74005947])"
      ]
     },
     "execution_count": 35,
     "metadata": {},
     "output_type": "execute_result"
    }
   ],
   "source": [
    "tsmodel.predict(slope_quantile=dict(sdi=0.15), ref_cov=None)"
   ]
  },
  {
   "cell_type": "code",
   "execution_count": 36,
   "metadata": {},
   "outputs": [
    {
     "data": {
      "text/plain": [
       "array([-3.49443256, -0.71739045, -3.51475507, ..., -1.46900948,\n",
       "       -2.15271368, -1.48282609])"
      ]
     },
     "execution_count": 36,
     "metadata": {},
     "output_type": "execute_result"
    }
   ],
   "source": [
    "tsmodel.predict(slope_quantile=dict(sdi=0.15), ref_cov=('year_id', 2000))"
   ]
  },
  {
   "cell_type": "code",
   "execution_count": 37,
   "metadata": {},
   "outputs": [],
   "source": [
    "sw_result = swmodel.result_to_df()\n",
    "sw_result_base = sw_result.copy()\n",
    "sw_result_base['pred_type'] = 'base'"
   ]
  },
  {
   "cell_type": "code",
   "execution_count": 38,
   "metadata": {},
   "outputs": [],
   "source": [
    "sw_result_no_adjust = sw_result.copy()\n",
    "sw_result_no_adjust['prediction'] = swmodel.predict(slope_quantile=dict(sdi=0.15), ref_cov=None)\n",
    "sw_result_no_adjust['pred_type'] = 'no_adjust'"
   ]
  },
  {
   "cell_type": "code",
   "execution_count": null,
   "metadata": {},
   "outputs": [],
   "source": [
    "sw_result_adjusted = sw_result.copy()\n",
    "sw_result_adjusted['prediction'] = swmodel.predict(slope_quantile=dict(sdi=0.15), ref_cov=('year_id', 2000))\n",
    "sw_result_adjusted['pred_type'] = 'adjusted'"
   ]
  },
  {
   "cell_type": "code",
   "execution_count": null,
   "metadata": {},
   "outputs": [],
   "source": [
    "result_compare = pd.concat([sw_result_base, sw_result_no_adjust, sw_result_adjusted]).query('study_id == [101, 102]')"
   ]
  },
  {
   "cell_type": "code",
   "execution_count": null,
   "metadata": {},
   "outputs": [],
   "source": [
    "result_compare"
   ]
  },
  {
   "cell_type": "code",
   "execution_count": null,
   "metadata": {},
   "outputs": [],
   "source": [
    "import plotly.express as px"
   ]
  },
  {
   "cell_type": "code",
   "execution_count": null,
   "metadata": {},
   "outputs": [],
   "source": [
    "px.scatter(\n",
    "    result_compare, \n",
    "    x='year_id', \n",
    "    y='prediction', \n",
    "    color='pred_type', facet_row='study_id', width=700, height=1000).update_traces(mode='lines+markers')"
   ]
  },
  {
   "cell_type": "markdown",
   "metadata": {},
   "source": [
    "### More plotting"
   ]
  },
  {
   "cell_type": "code",
   "execution_count": null,
   "metadata": {},
   "outputs": [],
   "source": [
    "ls_id = 1021\n",
    "index = df_stage2.ls_id == ls_id\n",
    "obs = df_stage2[f'{indicator}_logit'].values[index]\n",
    "year_id = df_stage2['year_id'].values[index]\n",
    "\n",
    "prediction = df_stage2['pred_stage1'].values + df_stage2['pred_stage2'].values\n",
    "print(prediction)\n",
    "prediction = prediction[index]\n",
    "\n",
    "plt.scatter(year_id, obs, label='observation')\n",
    "plt.scatter(year_id, prediction, label='prediction')\n",
    "plt.legend()\n",
    "plt.title(f\"loc_sex_id: {ls_id}\")"
   ]
  },
  {
   "cell_type": "code",
   "execution_count": null,
   "metadata": {},
   "outputs": [],
   "source": [
    "soln = np.vstack(list(model_stage2.soln.values()))"
   ]
  },
  {
   "cell_type": "code",
   "execution_count": null,
   "metadata": {},
   "outputs": [],
   "source": [
    "plt.plot(np.sort(soln[:, 0]), np.linspace(0.0, 1.0, soln.shape[0]))\n",
    "plt.title(\"random intercept cumulative density\")"
   ]
  },
  {
   "cell_type": "code",
   "execution_count": null,
   "metadata": {},
   "outputs": [],
   "source": [
    "plt.plot(np.sort(soln[:, 1]), np.linspace(0.0, 1.0, soln.shape[0]))\n",
    "plt.title(\"random slope cumulative density\")"
   ]
  },
  {
   "cell_type": "code",
   "execution_count": null,
   "metadata": {},
   "outputs": [],
   "source": []
  }
 ],
 "metadata": {
  "kernelspec": {
   "display_name": "Python 3",
   "language": "python",
   "name": "python3"
  },
  "language_info": {
   "codemirror_mode": {
    "name": "ipython",
    "version": 3
   },
   "file_extension": ".py",
   "mimetype": "text/x-python",
   "name": "python",
   "nbconvert_exporter": "python",
   "pygments_lexer": "ipython3",
   "version": "3.8.3"
  }
 },
 "nbformat": 4,
 "nbformat_minor": 4
}
