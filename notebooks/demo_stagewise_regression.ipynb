{
 "cells": [
  {
   "cell_type": "code",
   "execution_count": null,
   "metadata": {
    "scrolled": true
   },
   "outputs": [],
   "source": [
    "import numpy as np\n",
    "import pandas as pd \n",
    "import matplotlib.pyplot as plt\n",
    "from mrtool import MRData, LinearCovModel\n",
    "from gkmodel import OverallModel, StudyModel, TwoStageModel, StagewiseModel, result_to_df"
   ]
  },
  {
   "cell_type": "code",
   "execution_count": null,
   "metadata": {
    "scrolled": true
   },
   "outputs": [],
   "source": [
    "indicator = 'smoking'\n",
    "df = pd.read_csv(f'../data/{indicator}.as.csv')"
   ]
  },
  {
   "cell_type": "code",
   "execution_count": null,
   "metadata": {
    "scrolled": true
   },
   "outputs": [],
   "source": [
    "df.head(3)"
   ]
  },
  {
   "cell_type": "code",
   "execution_count": null,
   "metadata": {
    "scrolled": true
   },
   "outputs": [],
   "source": [
    "data_stage1 = MRData()\n",
    "data_stage1.load_df(\n",
    "    df,\n",
    "    col_obs=f'{indicator}_logit',\n",
    "    col_obs_se=f'{indicator}_logit_se',\n",
    "    col_covs=['sdi', 'year_id'],\n",
    "    col_study_id='ls_id'\n",
    ")"
   ]
  },
  {
   "cell_type": "code",
   "execution_count": null,
   "metadata": {
    "scrolled": true
   },
   "outputs": [],
   "source": [
    "cov_models1 = [\n",
    "    LinearCovModel('intercept'),\n",
    "    LinearCovModel('sdi',\n",
    "                   use_spline=True,\n",
    "                   spline_knots=np.linspace(0.0, 1.0, 5),\n",
    "                   spline_l_linear=True,\n",
    "                   spline_r_linear=True)\n",
    "]\n",
    "cov_models2 = [LinearCovModel('intercept'), LinearCovModel('year_id')]"
   ]
  },
  {
   "cell_type": "markdown",
   "metadata": {},
   "source": [
    "### Using TwoStage Model"
   ]
  },
  {
   "cell_type": "code",
   "execution_count": null,
   "metadata": {
    "scrolled": true
   },
   "outputs": [],
   "source": [
    "cov_models1 = [\n",
    "    LinearCovModel('intercept'),\n",
    "    LinearCovModel('sdi',\n",
    "                   use_spline=True,\n",
    "                   spline_knots=np.linspace(0.0, 1.0, 5),\n",
    "                   spline_l_linear=True,\n",
    "                   spline_r_linear=True)\n",
    "]\n",
    "cov_models2 = [LinearCovModel('intercept'), LinearCovModel('year_id')]"
   ]
  },
  {
   "cell_type": "code",
   "execution_count": null,
   "metadata": {
    "scrolled": true
   },
   "outputs": [],
   "source": [
    "tsmodel = TwoStageModel(data_stage1, cov_models1, cov_models2)"
   ]
  },
  {
   "cell_type": "code",
   "execution_count": null,
   "metadata": {
    "scrolled": true
   },
   "outputs": [],
   "source": [
    "tsmodel.fit_model()"
   ]
  },
  {
   "cell_type": "code",
   "execution_count": null,
   "metadata": {
    "scrolled": true
   },
   "outputs": [],
   "source": [
    "two_stage_result = result_to_df(tsmodel, tsmodel.data1)"
   ]
  },
  {
   "cell_type": "markdown",
   "metadata": {},
   "source": [
    "### Using Three Stages"
   ]
  },
  {
   "cell_type": "code",
   "execution_count": null,
   "metadata": {
    "scrolled": true
   },
   "outputs": [],
   "source": [
    "cov_models1 = [\n",
    "    LinearCovModel('intercept'),\n",
    "    LinearCovModel('sdi',\n",
    "                   use_spline=True,\n",
    "                   spline_knots=np.linspace(0.0, 1.0, 5),\n",
    "                   spline_l_linear=True,\n",
    "                   spline_r_linear=True)\n",
    "]\n",
    "cov_models2 = [LinearCovModel('intercept'), LinearCovModel('sdi')]\n",
    "cov_models3 = [LinearCovModel('intercept'), LinearCovModel('year_id')]"
   ]
  },
  {
   "cell_type": "code",
   "execution_count": null,
   "metadata": {
    "scrolled": true
   },
   "outputs": [],
   "source": [
    "swmodel = StagewiseModel(data_stage1, [OverallModel(cov_models=cov_models1),\n",
    "                                       StudyModel(cov_models=cov_models2),\n",
    "                                       StudyModel(cov_models=cov_models3)])"
   ]
  },
  {
   "cell_type": "code",
   "execution_count": null,
   "metadata": {
    "scrolled": true
   },
   "outputs": [],
   "source": [
    "swmodel.fit_model()"
   ]
  },
  {
   "cell_type": "code",
   "execution_count": null,
   "metadata": {
    "scrolled": true
   },
   "outputs": [],
   "source": [
    "swmodel.write_soln(0)"
   ]
  },
  {
   "cell_type": "code",
   "execution_count": null,
   "metadata": {
    "scrolled": true
   },
   "outputs": [],
   "source": [
    "swmodel.write_soln(1)"
   ]
  },
  {
   "cell_type": "code",
   "execution_count": null,
   "metadata": {
    "scrolled": true
   },
   "outputs": [],
   "source": [
    "swmodel.write_soln(2)"
   ]
  },
  {
   "cell_type": "code",
   "execution_count": null,
   "metadata": {
    "scrolled": true
   },
   "outputs": [],
   "source": [
    "three_stage_result = result_to_df(swmodel, swmodel.data_list[0])"
   ]
  },
  {
   "cell_type": "markdown",
   "metadata": {},
   "source": [
    "### Compare prediction"
   ]
  },
  {
   "cell_type": "markdown",
   "metadata": {},
   "source": [
    "- prediction from TwoStageModel"
   ]
  },
  {
   "cell_type": "code",
   "execution_count": null,
   "metadata": {
    "scrolled": true
   },
   "outputs": [],
   "source": [
    "prediction_ts = tsmodel.predict()"
   ]
  },
  {
   "cell_type": "markdown",
   "metadata": {},
   "source": [
    "- prediction from stagewise model"
   ]
  },
  {
   "cell_type": "code",
   "execution_count": null,
   "metadata": {
    "scrolled": true
   },
   "outputs": [],
   "source": [
    "prediction_sw = swmodel.predict()"
   ]
  },
  {
   "cell_type": "markdown",
   "metadata": {},
   "source": [
    "### Plotting Poland and Georgia"
   ]
  },
  {
   "cell_type": "code",
   "execution_count": null,
   "metadata": {
    "scrolled": true
   },
   "outputs": [],
   "source": [
    "import plotly.express as px"
   ]
  },
  {
   "cell_type": "code",
   "execution_count": null,
   "metadata": {
    "scrolled": true
   },
   "outputs": [],
   "source": [
    "two_stage_result.study_id = two_stage_result.study_id.astype('category')\n",
    "pg_two_stage = two_stage_result.query('study_id == [511, 512, 351, 352]').copy()\n",
    "pg_two_stage.loc[:, 'method'] = 'two_stage'\n",
    "three_stage_result.study_id = three_stage_result.study_id.astype('category')\n",
    "pg_three_stage = three_stage_result.query('study_id == [511, 512, 351, 352]').copy()\n",
    "pg_three_stage.loc[:, 'method'] = 'three_stage'\n",
    "pg_compare = pd.concat([pg_two_stage, pg_three_stage])\n",
    "pg_compare"
   ]
  },
  {
   "cell_type": "code",
   "execution_count": null,
   "metadata": {
    "scrolled": true
   },
   "outputs": [],
   "source": [
    "px.scatter(pg_compare, x='year_id', y='prediction', color='method', facet_row='study_id', width=700, height=1000).update_traces(mode='lines+markers')"
   ]
  },
  {
   "cell_type": "code",
   "execution_count": null,
   "metadata": {},
   "outputs": [],
   "source": []
  }
 ],
 "metadata": {
  "kernelspec": {
   "display_name": "Python 3",
   "language": "python",
   "name": "python3"
  },
  "language_info": {
   "codemirror_mode": {
    "name": "ipython",
    "version": 3
   },
   "file_extension": ".py",
   "mimetype": "text/x-python",
   "name": "python",
   "nbconvert_exporter": "python",
   "pygments_lexer": "ipython3",
   "version": "3.7.7"
  }
 },
 "nbformat": 4,
 "nbformat_minor": 4
}
